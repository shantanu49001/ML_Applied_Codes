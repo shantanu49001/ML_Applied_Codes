{
  "cells": [
    {
      "cell_type": "markdown",
      "metadata": {
        "colab_type": "text",
        "id": "3DR-eO17geWu"
      },
      "source": [
        "# Convolutional Neural Network"
      ]
    },
    {
      "cell_type": "markdown",
      "metadata": {
        "colab_type": "text",
        "id": "EMefrVPCg-60"
      },
      "source": [
        "### Importing the libraries"
      ]
    },
    {
      "cell_type": "code",
      "execution_count": 1,
      "metadata": {
        "colab": {},
        "colab_type": "code",
        "id": "sCV30xyVhFbE"
      },
      "outputs": [
        {
          "name": "stderr",
          "output_type": "stream",
          "text": [
            "C:\\Users\\LENOVO L 340  7LIN\\AppData\\Local\\Packages\\PythonSoftwareFoundation.Python.3.9_qbz5n2kfra8p0\\LocalCache\\local-packages\\Python39\\site-packages\\scipy\\__init__.py:146: UserWarning: A NumPy version >=1.16.5 and <1.23.0 is required for this version of SciPy (detected version 1.24.3\n",
            "  warnings.warn(f\"A NumPy version >={np_minversion} and <{np_maxversion}\"\n"
          ]
        }
      ],
      "source": [
        "import tensorflow as tf\n",
        "from keras.preprocessing.image import ImageDataGenerator"
      ]
    },
    {
      "cell_type": "code",
      "execution_count": 2,
      "metadata": {
        "colab": {},
        "colab_type": "code",
        "id": "FIleuCAjoFD8"
      },
      "outputs": [
        {
          "data": {
            "text/plain": [
              "'2.13.0'"
            ]
          },
          "execution_count": 2,
          "metadata": {},
          "output_type": "execute_result"
        }
      ],
      "source": [
        "tf.__version__"
      ]
    },
    {
      "cell_type": "markdown",
      "metadata": {
        "colab_type": "text",
        "id": "oxQxCBWyoGPE"
      },
      "source": [
        "## Part 1 - Data Preprocessing"
      ]
    },
    {
      "cell_type": "markdown",
      "metadata": {
        "colab_type": "text",
        "id": "MvE-heJNo3GG"
      },
      "source": [
        "### Preprocessing the Training set"
      ]
    },
    {
      "cell_type": "code",
      "execution_count": 3,
      "metadata": {
        "colab": {},
        "colab_type": "code",
        "id": "0koUcJMJpEBD"
      },
      "outputs": [
        {
          "name": "stdout",
          "output_type": "stream",
          "text": [
            "Found 8000 images belonging to 2 classes.\n"
          ]
        }
      ],
      "source": [
        "train_datagen = ImageDataGenerator(rescale = 1./255,\n",
        "                                   shear_range = 0.2,\n",
        "                                   zoom_range = 0.2,\n",
        "                                   horizontal_flip = True)\n",
        "training_set = train_datagen.flow_from_directory('dataset/training_set',\n",
        "                                                 target_size = (64, 64),\n",
        "                                                 batch_size = 32,\n",
        "                                                 class_mode = 'binary')"
      ]
    },
    {
      "cell_type": "markdown",
      "metadata": {
        "colab_type": "text",
        "id": "mrCMmGw9pHys"
      },
      "source": [
        "### Preprocessing the Test set"
      ]
    },
    {
      "cell_type": "code",
      "execution_count": 4,
      "metadata": {
        "colab": {},
        "colab_type": "code",
        "id": "SH4WzfOhpKc3"
      },
      "outputs": [
        {
          "name": "stdout",
          "output_type": "stream",
          "text": [
            "Found 2000 images belonging to 2 classes.\n"
          ]
        }
      ],
      "source": [
        "test_datagen = ImageDataGenerator(rescale = 1./255)\n",
        "test_set = test_datagen.flow_from_directory('dataset/test_set',\n",
        "                                            target_size = (64, 64),\n",
        "                                            batch_size = 32,\n",
        "                                            class_mode = 'binary')"
      ]
    },
    {
      "cell_type": "markdown",
      "metadata": {
        "colab_type": "text",
        "id": "af8O4l90gk7B"
      },
      "source": [
        "## Part 2 - Building the CNN"
      ]
    },
    {
      "cell_type": "markdown",
      "metadata": {
        "colab_type": "text",
        "id": "ces1gXY2lmoX"
      },
      "source": [
        "### Initialising the CNN"
      ]
    },
    {
      "cell_type": "code",
      "execution_count": 5,
      "metadata": {
        "colab": {},
        "colab_type": "code",
        "id": "SAUt4UMPlhLS"
      },
      "outputs": [],
      "source": [
        "cnn = tf.keras.models.Sequential()"
      ]
    },
    {
      "cell_type": "markdown",
      "metadata": {
        "colab_type": "text",
        "id": "u5YJj_XMl5LF"
      },
      "source": [
        "### Step 1 - Convolution"
      ]
    },
    {
      "cell_type": "code",
      "execution_count": 6,
      "metadata": {
        "colab": {},
        "colab_type": "code",
        "id": "XPzPrMckl-hV"
      },
      "outputs": [],
      "source": [
        "cnn.add(tf.keras.layers.Conv2D(filters=32, kernel_size=3, activation='relu', input_shape=[64, 64, 3]))"
      ]
    },
    {
      "cell_type": "markdown",
      "metadata": {
        "colab_type": "text",
        "id": "tf87FpvxmNOJ"
      },
      "source": [
        "### Step 2 - Pooling"
      ]
    },
    {
      "cell_type": "code",
      "execution_count": 7,
      "metadata": {
        "colab": {},
        "colab_type": "code",
        "id": "ncpqPl69mOac"
      },
      "outputs": [],
      "source": [
        "cnn.add(tf.keras.layers.MaxPool2D(pool_size=2, strides=2))"
      ]
    },
    {
      "cell_type": "markdown",
      "metadata": {
        "colab_type": "text",
        "id": "xaTOgD8rm4mU"
      },
      "source": [
        "### Adding a second convolutional layer"
      ]
    },
    {
      "cell_type": "code",
      "execution_count": 8,
      "metadata": {
        "colab": {},
        "colab_type": "code",
        "id": "i_-FZjn_m8gk"
      },
      "outputs": [],
      "source": [
        "cnn.add(tf.keras.layers.Conv2D(filters=32, kernel_size=3, activation='relu'))\n",
        "cnn.add(tf.keras.layers.MaxPool2D(pool_size=2, strides=2))"
      ]
    },
    {
      "cell_type": "markdown",
      "metadata": {
        "colab_type": "text",
        "id": "tmiEuvTunKfk"
      },
      "source": [
        "### Step 3 - Flattening"
      ]
    },
    {
      "cell_type": "code",
      "execution_count": 9,
      "metadata": {
        "colab": {},
        "colab_type": "code",
        "id": "6AZeOGCvnNZn"
      },
      "outputs": [],
      "source": [
        "cnn.add(tf.keras.layers.Flatten())"
      ]
    },
    {
      "cell_type": "markdown",
      "metadata": {
        "colab_type": "text",
        "id": "dAoSECOm203v"
      },
      "source": [
        "### Step 4 - Full Connection"
      ]
    },
    {
      "cell_type": "code",
      "execution_count": 10,
      "metadata": {
        "colab": {},
        "colab_type": "code",
        "id": "8GtmUlLd26Nq"
      },
      "outputs": [],
      "source": [
        "cnn.add(tf.keras.layers.Dense(units=128, activation='relu'))"
      ]
    },
    {
      "cell_type": "markdown",
      "metadata": {
        "colab_type": "text",
        "id": "yTldFvbX28Na"
      },
      "source": [
        "### Step 5 - Output Layer"
      ]
    },
    {
      "cell_type": "code",
      "execution_count": 11,
      "metadata": {
        "colab": {},
        "colab_type": "code",
        "id": "1p_Zj1Mc3Ko_"
      },
      "outputs": [],
      "source": [
        "cnn.add(tf.keras.layers.Dense(units=1, activation='sigmoid'))"
      ]
    },
    {
      "cell_type": "markdown",
      "metadata": {
        "colab_type": "text",
        "id": "D6XkI90snSDl"
      },
      "source": [
        "## Part 3 - Training the CNN"
      ]
    },
    {
      "cell_type": "markdown",
      "metadata": {
        "colab_type": "text",
        "id": "vfrFQACEnc6i"
      },
      "source": [
        "### Compiling the CNN"
      ]
    },
    {
      "cell_type": "code",
      "execution_count": 12,
      "metadata": {
        "colab": {},
        "colab_type": "code",
        "id": "NALksrNQpUlJ"
      },
      "outputs": [],
      "source": [
        "cnn.compile(optimizer = 'adam', loss = 'binary_crossentropy', metrics = ['accuracy'])"
      ]
    },
    {
      "cell_type": "markdown",
      "metadata": {
        "colab_type": "text",
        "id": "ehS-v3MIpX2h"
      },
      "source": [
        "### Training the CNN on the Training set and evaluating it on the Test set"
      ]
    },
    {
      "cell_type": "code",
      "execution_count": 13,
      "metadata": {
        "colab": {},
        "colab_type": "code",
        "id": "XUj1W4PJptta"
      },
      "outputs": [
        {
          "name": "stdout",
          "output_type": "stream",
          "text": [
            "Epoch 1/25\n",
            "250/250 [==============================] - 370s 1s/step - loss: 0.6729 - accuracy: 0.5814 - val_loss: 0.6133 - val_accuracy: 0.6795\n",
            "Epoch 2/25\n",
            "250/250 [==============================] - 67s 268ms/step - loss: 0.6032 - accuracy: 0.6709 - val_loss: 0.5801 - val_accuracy: 0.6875\n",
            "Epoch 3/25\n",
            "250/250 [==============================] - 49s 195ms/step - loss: 0.5623 - accuracy: 0.7116 - val_loss: 0.5457 - val_accuracy: 0.7315\n",
            "Epoch 4/25\n",
            "250/250 [==============================] - 54s 215ms/step - loss: 0.5301 - accuracy: 0.7289 - val_loss: 0.5269 - val_accuracy: 0.7335\n",
            "Epoch 5/25\n",
            "250/250 [==============================] - 65s 260ms/step - loss: 0.5116 - accuracy: 0.7470 - val_loss: 0.5072 - val_accuracy: 0.7535\n",
            "Epoch 6/25\n",
            "250/250 [==============================] - 61s 244ms/step - loss: 0.4854 - accuracy: 0.7642 - val_loss: 0.4988 - val_accuracy: 0.7630\n",
            "Epoch 7/25\n",
            "250/250 [==============================] - 38s 151ms/step - loss: 0.4765 - accuracy: 0.7763 - val_loss: 0.5090 - val_accuracy: 0.7495\n",
            "Epoch 8/25\n",
            "250/250 [==============================] - 39s 157ms/step - loss: 0.4595 - accuracy: 0.7822 - val_loss: 0.4815 - val_accuracy: 0.7810\n",
            "Epoch 9/25\n",
            "250/250 [==============================] - 40s 162ms/step - loss: 0.4379 - accuracy: 0.7900 - val_loss: 0.4559 - val_accuracy: 0.7920\n",
            "Epoch 10/25\n",
            "250/250 [==============================] - 41s 164ms/step - loss: 0.4201 - accuracy: 0.8052 - val_loss: 0.4566 - val_accuracy: 0.7955\n",
            "Epoch 11/25\n",
            "250/250 [==============================] - 46s 184ms/step - loss: 0.4034 - accuracy: 0.8181 - val_loss: 0.4508 - val_accuracy: 0.7970\n",
            "Epoch 12/25\n",
            "250/250 [==============================] - 46s 181ms/step - loss: 0.3936 - accuracy: 0.8179 - val_loss: 0.4672 - val_accuracy: 0.7865\n",
            "Epoch 13/25\n",
            "250/250 [==============================] - 49s 195ms/step - loss: 0.3866 - accuracy: 0.8232 - val_loss: 0.4628 - val_accuracy: 0.7955\n",
            "Epoch 14/25\n",
            "250/250 [==============================] - 49s 194ms/step - loss: 0.3635 - accuracy: 0.8347 - val_loss: 0.4535 - val_accuracy: 0.7980\n",
            "Epoch 15/25\n",
            "250/250 [==============================] - 175s 701ms/step - loss: 0.3545 - accuracy: 0.8457 - val_loss: 0.4560 - val_accuracy: 0.7900\n",
            "Epoch 16/25\n",
            "250/250 [==============================] - 153s 610ms/step - loss: 0.3483 - accuracy: 0.8484 - val_loss: 0.4784 - val_accuracy: 0.7965\n",
            "Epoch 17/25\n",
            "250/250 [==============================] - 54s 217ms/step - loss: 0.3182 - accuracy: 0.8622 - val_loss: 0.7549 - val_accuracy: 0.7295\n",
            "Epoch 18/25\n",
            "250/250 [==============================] - 54s 217ms/step - loss: 0.3121 - accuracy: 0.8616 - val_loss: 0.4633 - val_accuracy: 0.7960\n",
            "Epoch 19/25\n",
            "250/250 [==============================] - 59s 237ms/step - loss: 0.2860 - accuracy: 0.8792 - val_loss: 0.5041 - val_accuracy: 0.7955\n",
            "Epoch 20/25\n",
            "250/250 [==============================] - 53s 213ms/step - loss: 0.2901 - accuracy: 0.8783 - val_loss: 0.4879 - val_accuracy: 0.7920\n",
            "Epoch 21/25\n",
            "250/250 [==============================] - 78s 312ms/step - loss: 0.2760 - accuracy: 0.8835 - val_loss: 0.4811 - val_accuracy: 0.7990\n",
            "Epoch 22/25\n",
            "250/250 [==============================] - 104s 418ms/step - loss: 0.2583 - accuracy: 0.8913 - val_loss: 0.5346 - val_accuracy: 0.8005\n",
            "Epoch 23/25\n",
            "250/250 [==============================] - 71s 283ms/step - loss: 0.2505 - accuracy: 0.8946 - val_loss: 0.5290 - val_accuracy: 0.8045\n",
            "Epoch 24/25\n",
            "250/250 [==============================] - 53s 212ms/step - loss: 0.2380 - accuracy: 0.9000 - val_loss: 0.5544 - val_accuracy: 0.7935\n",
            "Epoch 25/25\n",
            "250/250 [==============================] - 85s 340ms/step - loss: 0.2287 - accuracy: 0.9055 - val_loss: 0.5192 - val_accuracy: 0.8065\n"
          ]
        },
        {
          "data": {
            "text/plain": [
              "<keras.src.callbacks.History at 0x2b4aac9ddf0>"
            ]
          },
          "execution_count": 13,
          "metadata": {},
          "output_type": "execute_result"
        }
      ],
      "source": [
        "cnn.fit(x = training_set, validation_data = test_set, epochs = 25)"
      ]
    },
    {
      "cell_type": "markdown",
      "metadata": {
        "colab_type": "text",
        "id": "U3PZasO0006Z"
      },
      "source": [
        "## Part 4 - Making a single prediction"
      ]
    },
    {
      "cell_type": "code",
      "execution_count": 23,
      "metadata": {
        "colab": {},
        "colab_type": "code",
        "id": "gsSiWEJY1BPB"
      },
      "outputs": [
        {
          "name": "stdout",
          "output_type": "stream",
          "text": [
            "1/1 [==============================] - 0s 54ms/step\n"
          ]
        }
      ],
      "source": [
        "import numpy as np\n",
        "from keras.preprocessing import image\n",
        "test_image = image.load_img('dataset/test_set/cats/cat.4017.jpg', target_size = (64, 64))\n",
        "test_image = image.img_to_array(test_image)\n",
        "test_image = np.expand_dims(test_image, axis = 0)\n",
        "result = cnn.predict(test_image)\n",
        "training_set.class_indices\n",
        "if result[0][0] == 1:\n",
        "  prediction = 'dog'\n",
        "else:\n",
        "  prediction = 'cat'"
      ]
    },
    {
      "cell_type": "code",
      "execution_count": 24,
      "metadata": {
        "colab": {},
        "colab_type": "code",
        "id": "ED9KB3I54c1i"
      },
      "outputs": [
        {
          "name": "stdout",
          "output_type": "stream",
          "text": [
            "dog\n"
          ]
        }
      ],
      "source": [
        "print(prediction)"
      ]
    }
  ],
  "metadata": {
    "colab": {
      "collapsed_sections": [],
      "name": "convolutional_neural_network.ipynb",
      "provenance": [],
      "toc_visible": true
    },
    "kernelspec": {
      "display_name": "Python 3",
      "name": "python3"
    },
    "language_info": {
      "codemirror_mode": {
        "name": "ipython",
        "version": 3
      },
      "file_extension": ".py",
      "mimetype": "text/x-python",
      "name": "python",
      "nbconvert_exporter": "python",
      "pygments_lexer": "ipython3",
      "version": "3.9.13"
    }
  },
  "nbformat": 4,
  "nbformat_minor": 0
}
